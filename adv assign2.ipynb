{
 "cells": [
  {
   "cell_type": "markdown",
   "id": "d3ad2253",
   "metadata": {},
   "source": [
    "# Q1. What is the relationship between classes and modules?"
   ]
  },
  {
   "cell_type": "code",
   "execution_count": null,
   "id": "16b2d314",
   "metadata": {},
   "outputs": [],
   "source": [
    "Modules are collections of methods and constants. Classes may generate instances (objects), and have per-instance state (instance variables)."
   ]
  },
  {
   "cell_type": "markdown",
   "id": "cee9b0f3",
   "metadata": {},
   "source": [
    "# Q2. How do you make instances and classes?"
   ]
  },
  {
   "cell_type": "code",
   "execution_count": null,
   "id": "371cf252",
   "metadata": {},
   "outputs": [],
   "source": [
    "class ABC: ---- this is class\n",
    "    \n",
    "a =ABC() ---- this is instance of class"
   ]
  },
  {
   "cell_type": "markdown",
   "id": "733c3e1e",
   "metadata": {},
   "source": [
    "# Q3. Where and how should be class attributes created?"
   ]
  },
  {
   "cell_type": "code",
   "execution_count": null,
   "id": "b85fc350",
   "metadata": {},
   "outputs": [],
   "source": [
    "Any variable that is bound in a class is a class attribute.\n",
    "\n",
    "class MyClass\n",
    "    attr1 = 10        #class attributes\n",
    "    attr2 = \"hello\""
   ]
  },
  {
   "cell_type": "markdown",
   "id": "548ee78e",
   "metadata": {},
   "source": [
    "# Q4. Where and how are instance attributes created?"
   ]
  },
  {
   "cell_type": "code",
   "execution_count": null,
   "id": "b14fe2c9",
   "metadata": {},
   "outputs": [],
   "source": [
    "it is defined inside the function.\n",
    "\n",
    "def method3(self, text):\n",
    "        self.text = text        #instance attribute\n",
    "        print text, self.text "
   ]
  },
  {
   "cell_type": "markdown",
   "id": "aeed8738",
   "metadata": {},
   "source": [
    "# Q5. What does the term &quot;self&quot; in a Python class mean?"
   ]
  },
  {
   "cell_type": "code",
   "execution_count": null,
   "id": "20d073c8",
   "metadata": {},
   "outputs": [],
   "source": [
    "self tis the very first argument in the class function. it basically means the pointer using this we can able to access instance attributes"
   ]
  },
  {
   "cell_type": "markdown",
   "id": "b63b2999",
   "metadata": {},
   "source": [
    "# Q6. How does a Python class handle operator overloading?"
   ]
  },
  {
   "cell_type": "code",
   "execution_count": null,
   "id": "f407b749",
   "metadata": {},
   "outputs": [],
   "source": [
    "The operator overloading in Python means provide extended meaning beyond their predefined operational meaning. Such as, we use the \"+\" operator for adding two integers as well as joining two strings or merging two lists. We can achieve this as the \"+\" operator is overloaded by the \"int\" class and \"str\" class.\n",
    "\n",
    "exapmle:\n",
    "\n",
    "    print (14 + 32)  \n",
    "   \n",
    "# Now, we will concatenate the two strings \n",
    "\n",
    "print (\"Java\" + \"Tpoint\")  "
   ]
  },
  {
   "cell_type": "markdown",
   "id": "ae784f43",
   "metadata": {},
   "source": [
    "# Q7. When do you consider allowing operator overloading of your classes?"
   ]
  },
  {
   "cell_type": "code",
   "execution_count": null,
   "id": "cdcbb191",
   "metadata": {},
   "outputs": [],
   "source": [
    "Consider that we have two objects which are a physical representation of a class (user-defined data type) and we have to add two objects with binary '+' operator it throws an error, because compiler don't know how to add two objects. So we define a method for an operator and that process is called operator overloading."
   ]
  },
  {
   "cell_type": "markdown",
   "id": "75c2cf5e",
   "metadata": {},
   "source": [
    "# Q8. What is the most popular form of operator overloading?"
   ]
  },
  {
   "cell_type": "code",
   "execution_count": null,
   "id": "fff93466",
   "metadata": {},
   "outputs": [],
   "source": [
    "A very popular and convenient example is the Addition (+) operator. Just think how the '+' operator operates on two numbers and the same operator operates on two strings. It performs “Addition” on numbers whereas it performs “Concatenation” on strings."
   ]
  },
  {
   "cell_type": "markdown",
   "id": "05ef9d84",
   "metadata": {},
   "source": [
    "# Q9. What are the two most important concepts to grasp in order to comprehend Python OOP code?"
   ]
  },
  {
   "cell_type": "code",
   "execution_count": null,
   "id": "cf65ca65",
   "metadata": {},
   "outputs": [],
   "source": [
    "inheritance and polymorphism."
   ]
  }
 ],
 "metadata": {
  "kernelspec": {
   "display_name": "Python 3",
   "language": "python",
   "name": "python3"
  },
  "language_info": {
   "codemirror_mode": {
    "name": "ipython",
    "version": 3
   },
   "file_extension": ".py",
   "mimetype": "text/x-python",
   "name": "python",
   "nbconvert_exporter": "python",
   "pygments_lexer": "ipython3",
   "version": "3.8.8"
  }
 },
 "nbformat": 4,
 "nbformat_minor": 5
}
